{
 "cells": [
  {
   "cell_type": "code",
   "execution_count": 68,
   "metadata": {},
   "outputs": [
    {
     "name": "stdout",
     "output_type": "stream",
     "text": [
      "True\n",
      "True\n",
      "['day', 'ammount']\n",
      "=================\n",
      "['2013-01-24', '323']\n",
      "['2013-01-25', '233']\n",
      "['2013-01-26', '433']\n",
      "['2013-01-27', '555']\n",
      "['2013-01-28', '123']\n",
      "['2013-01-29', '0']\n",
      "['2013-01-30', '221']\n"
     ]
    }
   ],
   "source": [
    "import csv\n",
    "from collections import Iterable\n",
    "from collections import Iterator\n",
    "\n",
    "filename = 'ch02-data.csv'\n",
    "try:\n",
    "    with open(filename, 'r') as f:\n",
    "        reader = csv.reader(f)\n",
    "        print(isinstance(reader, Iterable))\n",
    "        print(isinstance(reader, Iterator))\n",
    "        header = next(reader)\n",
    "        data = [row for row in reader]\n",
    "except csv.Error as e:\n",
    "    print(\"Error readin CSV file\")\n",
    "    sys.exit(-1)\n",
    "\n",
    "if header:\n",
    "    print(header)\n",
    "    print(\"=================\")\n",
    "for datarow in data:\n",
    "    print(datarow)"
   ]
  },
  {
   "cell_type": "code",
   "execution_count": 40,
   "metadata": {},
   "outputs": [
    {
     "name": "stdout",
     "output_type": "stream",
     "text": [
      "<_csv.reader object at 0x000001E4AD48E800>\n",
      "['day', 'ammount']\n",
      "['2013-01-24', '323']\n",
      "['2013-01-25', '233']\n",
      "['2013-01-26', '433']\n",
      "['2013-01-27', '555']\n",
      "['2013-01-28', '123']\n",
      "['2013-01-29', '0']\n",
      "['2013-01-30', '221']\n"
     ]
    }
   ],
   "source": [
    "import csv\n",
    "filename = 'ch02-data.csv'\n",
    "\n",
    "csv_file = csv.reader(open(filename, 'r'))\n",
    "print(csv_file)\n",
    "for data in csv_file:\n",
    "    print(data)"
   ]
  },
  {
   "cell_type": "code",
   "execution_count": null,
   "metadata": {},
   "outputs": [],
   "source": []
  }
 ],
 "metadata": {
  "kernelspec": {
   "display_name": "Python 3",
   "language": "python",
   "name": "python3"
  },
  "language_info": {
   "codemirror_mode": {
    "name": "ipython",
    "version": 3
   },
   "file_extension": ".py",
   "mimetype": "text/x-python",
   "name": "python",
   "nbconvert_exporter": "python",
   "pygments_lexer": "ipython3",
   "version": "3.6.7"
  }
 },
 "nbformat": 4,
 "nbformat_minor": 2
}
